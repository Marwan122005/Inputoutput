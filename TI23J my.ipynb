{
 "cells": [
  {
   "cell_type": "code",
   "execution_count": 4,
   "id": "d036445e",
   "metadata": {},
   "outputs": [
    {
     "name": "stdout",
     "output_type": "stream",
     "text": [
      "isikan bilangan 1:100\n",
      "isikan bilangan 2:200\n",
      "Hasil 100 + 200 = 300\n"
     ]
    }
   ],
   "source": [
    "bil1 = input('isikan bilangan 1:')\n",
    "bil2 = input('isikan bilangan 2:')\n",
    "hasil = int(bil1) + int(bil2)\n",
    "print(\"Hasil\", bil1,\"+\", bil2, \"=\",hasil)"
   ]
  },
  {
   "cell_type": "code",
   "execution_count": 11,
   "id": "653f53a4",
   "metadata": {},
   "outputs": [
    {
     "name": "stdout",
     "output_type": "stream",
     "text": [
      "isikan bilangan 1:789\n",
      "isikan bilangan 2:678\n",
      "Hasil luas = 534942\n",
      "Hasil keliling = 2934\n"
     ]
    }
   ],
   "source": [
    "bil1 = input('isikan bilangan 1:')\n",
    "bil2 = input('isikan bilangan 2:')\n",
    "luas = int(bil1) * int(bil2)\n",
    "keliling = 2*(int(bil1) + int(bil2))\n",
    "print(\"Hasil luas\",\"=\",luas)\n",
    "print(\"Hasil keliling\",\"=\",keliling)"
   ]
  },
  {
   "cell_type": "code",
   "execution_count": 13,
   "id": "7ae59407",
   "metadata": {},
   "outputs": [
    {
     "name": "stdout",
     "output_type": "stream",
     "text": [
      "A\n",
      "B\n",
      "C\n",
      "D^_^"
     ]
    }
   ],
   "source": [
    "print(\"A\",\"B\",\"C\",\"D\", sep='\\n', end=\"^_^\")"
   ]
  },
  {
   "cell_type": "code",
   "execution_count": 14,
   "id": "e9170674",
   "metadata": {},
   "outputs": [
    {
     "name": "stdout",
     "output_type": "stream",
     "text": [
      "A@_@B@_@C@_@D\n"
     ]
    }
   ],
   "source": [
    "print(\"A\",\"B\",\"C\",\"D\", sep='@_@')"
   ]
  },
  {
   "cell_type": "code",
   "execution_count": 17,
   "id": "2d05c54f",
   "metadata": {},
   "outputs": [
    {
     "name": "stdout",
     "output_type": "stream",
     "text": [
      "hasil dari 8 modulus 10 = 8\n"
     ]
    }
   ],
   "source": [
    "num_1 = 8\n",
    "num_2 = 10\n",
    "\n",
    "# Hasil dari modulus 10 = 8\n",
    "\n",
    "print ('hasil dari {} modulus {} = {}'.format(num_1,num_2,num_1%num_2))\n"
   ]
  },
  {
   "cell_type": "code",
   "execution_count": 23,
   "id": "3dc93679",
   "metadata": {},
   "outputs": [
    {
     "name": "stdout",
     "output_type": "stream",
     "text": [
      "Nama anda kim Hartono Darmawan\n"
     ]
    }
   ],
   "source": [
    "fname = \"kim\"\n",
    "mname = \"Hartono\"\n",
    "lname = \"Darmawan\"\n",
    "\n",
    "print('Nama anda {0} {1} {2}'.format(fname,mname,lname))"
   ]
  },
  {
   "cell_type": "code",
   "execution_count": 21,
   "id": "9c8ec579",
   "metadata": {},
   "outputs": [
    {
     "name": "stdout",
     "output_type": "stream",
     "text": [
      "Nama anda wan nilai anda 100\n"
     ]
    }
   ],
   "source": [
    "print('Nama anda {nama} nilai anda {nilai}'.format(nama='wan',nilai=100))"
   ]
  },
  {
   "cell_type": "code",
   "execution_count": 27,
   "id": "f049122e",
   "metadata": {},
   "outputs": [
    {
     "name": "stdout",
     "output_type": "stream",
     "text": [
      "karakter pertama :  U\n",
      "karakter terakhir :  a\n",
      "Universitas\n",
      "Putra\n",
      "Putra\n",
      "artuP asuN satisrevinU\n"
     ]
    }
   ],
   "source": [
    "univ = \"Universitas Nusa Putra\"\n",
    "\n",
    "print(\"karakter pertama : \",univ[0])\n",
    "print(\"karakter terakhir : \",univ[-1])\n",
    "#Universitas\n",
    "print(univ[0:11])\n",
    "print(univ[-5:])\n",
    "print(univ[17:])\n",
    "print(univ[::-1])"
   ]
  },
  {
   "cell_type": "code",
   "execution_count": 30,
   "id": "8ef09f4d",
   "metadata": {},
   "outputs": [
    {
     "name": "stdout",
     "output_type": "stream",
     "text": [
      "Nama saya Rudi Andri\n",
      "Hasil Penjualan 100 + 20 = 120\n"
     ]
    }
   ],
   "source": [
    "f_name = 'Rudi'\n",
    "l_name = 'Andri'\n",
    "\n",
    "print(f'Nama saya {f_name} {l_name}')\n",
    "\n",
    "first = 100\n",
    "second = 20\n",
    "\n",
    "print (f'Hasil Penjualan {first} + {second} = {first+second}')"
   ]
  },
  {
   "cell_type": "code",
   "execution_count": 7,
   "id": "e53f5dfd",
   "metadata": {},
   "outputs": [
    {
     "name": "stdout",
     "output_type": "stream",
     "text": [
      "['Andri', 'Budi', 'Cika']\n",
      "['Andri', 'Budi', 'Cika']\n",
      "Andri@Budi@Cika\n",
      "Masukan Tanggal Lahir : 28/03/2023\n",
      "Masukan Nama : Budi\n",
      "Tanggal : 28, Bulan:03, Tahun:2023\n",
      "Nama Inisial : B0\n"
     ]
    }
   ],
   "source": [
    "nama = \"Andri,Budi,Cika\"\n",
    "nama2 = \"Andri Budi Cika\"\n",
    "#split -> memisahkan string berdasarkan karakter tertentu\n",
    "print(nama2.split())\n",
    "print(nama.split(','))\n",
    "\n",
    "#join -> menggabungkan string kedalam kumpulan karakter\n",
    "print('@'.join(nama.split(',')))\n",
    "\n",
    "#input tgl lahir-> Bill Gate\n",
    "#output:\n",
    "#tgl : 20, Bulan:Oktober, Tahun :2010\n",
    "#Nama Inisial : BG\n",
    "\n",
    "tgl = input(\"Masukan Tanggal Lahir : \")\n",
    "nama = input (\"Masukan Nama : \")\n",
    "pemisah = tgl.split('/')\n",
    "print(f\"Tanggal : {pemisah[0]}, Bulan:{pemisah[1]}, Tahun:{pemisah[2]}\")\n",
    "pemisah2 = nama.split()\n",
    "nama_pertama = pemisah2[0]\n",
    "nama_terakhir = pemisah[1]\n",
    "print(f\"Nama Inisial : {nama_pertama[0]+nama_terakhir[0]}\")"
   ]
  }
 ],
 "metadata": {
  "kernelspec": {
   "display_name": "Python 3 (ipykernel)",
   "language": "python",
   "name": "python3"
  },
  "language_info": {
   "codemirror_mode": {
    "name": "ipython",
    "version": 3
   },
   "file_extension": ".py",
   "mimetype": "text/x-python",
   "name": "python",
   "nbconvert_exporter": "python",
   "pygments_lexer": "ipython3",
   "version": "3.9.12"
  }
 },
 "nbformat": 4,
 "nbformat_minor": 5
}
